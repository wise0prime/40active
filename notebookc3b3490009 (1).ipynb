{
  "metadata": {
    "kernelspec": {
      "language": "python",
      "display_name": "Python 3",
      "name": "python3"
    },
    "language_info": {
      "name": "python",
      "version": "3.10.12",
      "mimetype": "text/x-python",
      "codemirror_mode": {
        "name": "ipython",
        "version": 3
      },
      "pygments_lexer": "ipython3",
      "nbconvert_exporter": "python",
      "file_extension": ".py"
    },
    "colab": {
      "provenance": []
    }
  },
  "nbformat_minor": 0,
  "nbformat": 4,
  "cells": [
    {
      "cell_type": "code",
      "source": [
        "# This Python 3 environment comes with many helpful analytics libraries installed\n",
        "# It is defined by the kaggle/python Docker image: https://github.com/kaggle/docker-python\n",
        "# For example, here's several helpful packages to load\n",
        "\n",
        "import numpy as np # linear algebra\n",
        "import pandas as pd # data processing, CSV file I/O (e.g. pd.read_csv)\n",
        "\n",
        "# Input data files are available in the read-only \"../input/\" directory\n",
        "# For example, running this (by clicking run or pressing Shift+Enter) will list all files under the input directory\n",
        "\n",
        "import os\n",
        "for dirname, _, filenames in os.walk('/kaggle/input'):\n",
        "    for filename in filenames:\n",
        "        print(os.path.join(dirname, filename))\n",
        "\n",
        "# You can write up to 20GB to the current directory (/kaggle/working/) that gets preserved as output when you create a version using \"Save & Run All\"\n",
        "# You can also write temporary files to /kaggle/temp/, but they won't be saved outside of the current session"
      ],
      "metadata": {
        "_uuid": "8f2839f25d086af736a60e9eeb907d3b93b6e0e5",
        "_cell_guid": "b1076dfc-b9ad-4769-8c92-a6c4dae69d19",
        "execution": {
          "iopub.status.busy": "2023-07-20T05:46:56.987531Z",
          "iopub.execute_input": "2023-07-20T05:46:56.988265Z",
          "iopub.status.idle": "2023-07-20T05:46:57.034055Z",
          "shell.execute_reply.started": "2023-07-20T05:46:56.988215Z",
          "shell.execute_reply": "2023-07-20T05:46:57.032877Z"
        },
        "trusted": true,
        "id": "-dmLA2-NYGes"
      },
      "execution_count": 6,
      "outputs": []
    },
    {
      "cell_type": "code",
      "source": [
        "train = pd.read_csv('/kaggle/input/walmart-recruiting-store-sales-forecasting/train.csv.zip')\n",
        "train\n",
        "\n"
      ],
      "metadata": {
        "execution": {
          "iopub.status.busy": "2023-07-20T05:49:33.160009Z",
          "iopub.execute_input": "2023-07-20T05:49:33.160485Z",
          "iopub.status.idle": "2023-07-20T05:49:33.515358Z",
          "shell.execute_reply.started": "2023-07-20T05:49:33.160450Z",
          "shell.execute_reply": "2023-07-20T05:49:33.514248Z"
        },
        "trusted": true,
        "colab": {
          "base_uri": "https://localhost:8080/",
          "height": 405
        },
        "id": "q5Yba0aEYGeu",
        "outputId": "cbf4f45f-65e8-40f8-8217-f12f6ce1b0f3"
      },
      "execution_count": 7,
      "outputs": [
        {
          "output_type": "error",
          "ename": "FileNotFoundError",
          "evalue": "ignored",
          "traceback": [
            "\u001b[0;31m---------------------------------------------------------------------------\u001b[0m",
            "\u001b[0;31mFileNotFoundError\u001b[0m                         Traceback (most recent call last)",
            "\u001b[0;32m<ipython-input-7-b282582726b5>\u001b[0m in \u001b[0;36m<cell line: 1>\u001b[0;34m()\u001b[0m\n\u001b[0;32m----> 1\u001b[0;31m \u001b[0mtrain\u001b[0m \u001b[0;34m=\u001b[0m \u001b[0mpd\u001b[0m\u001b[0;34m.\u001b[0m\u001b[0mread_csv\u001b[0m\u001b[0;34m(\u001b[0m\u001b[0;34m'/kaggle/input/walmart-recruiting-store-sales-forecasting/train.csv.zip'\u001b[0m\u001b[0;34m)\u001b[0m\u001b[0;34m\u001b[0m\u001b[0;34m\u001b[0m\u001b[0m\n\u001b[0m\u001b[1;32m      2\u001b[0m \u001b[0mtrain\u001b[0m\u001b[0;34m\u001b[0m\u001b[0;34m\u001b[0m\u001b[0m\n\u001b[1;32m      3\u001b[0m \u001b[0;34m\u001b[0m\u001b[0m\n",
            "\u001b[0;32m/usr/local/lib/python3.10/dist-packages/pandas/util/_decorators.py\u001b[0m in \u001b[0;36mwrapper\u001b[0;34m(*args, **kwargs)\u001b[0m\n\u001b[1;32m    209\u001b[0m                 \u001b[0;32melse\u001b[0m\u001b[0;34m:\u001b[0m\u001b[0;34m\u001b[0m\u001b[0;34m\u001b[0m\u001b[0m\n\u001b[1;32m    210\u001b[0m                     \u001b[0mkwargs\u001b[0m\u001b[0;34m[\u001b[0m\u001b[0mnew_arg_name\u001b[0m\u001b[0;34m]\u001b[0m \u001b[0;34m=\u001b[0m \u001b[0mnew_arg_value\u001b[0m\u001b[0;34m\u001b[0m\u001b[0;34m\u001b[0m\u001b[0m\n\u001b[0;32m--> 211\u001b[0;31m             \u001b[0;32mreturn\u001b[0m \u001b[0mfunc\u001b[0m\u001b[0;34m(\u001b[0m\u001b[0;34m*\u001b[0m\u001b[0margs\u001b[0m\u001b[0;34m,\u001b[0m \u001b[0;34m**\u001b[0m\u001b[0mkwargs\u001b[0m\u001b[0;34m)\u001b[0m\u001b[0;34m\u001b[0m\u001b[0;34m\u001b[0m\u001b[0m\n\u001b[0m\u001b[1;32m    212\u001b[0m \u001b[0;34m\u001b[0m\u001b[0m\n\u001b[1;32m    213\u001b[0m         \u001b[0;32mreturn\u001b[0m \u001b[0mcast\u001b[0m\u001b[0;34m(\u001b[0m\u001b[0mF\u001b[0m\u001b[0;34m,\u001b[0m \u001b[0mwrapper\u001b[0m\u001b[0;34m)\u001b[0m\u001b[0;34m\u001b[0m\u001b[0;34m\u001b[0m\u001b[0m\n",
            "\u001b[0;32m/usr/local/lib/python3.10/dist-packages/pandas/util/_decorators.py\u001b[0m in \u001b[0;36mwrapper\u001b[0;34m(*args, **kwargs)\u001b[0m\n\u001b[1;32m    329\u001b[0m                     \u001b[0mstacklevel\u001b[0m\u001b[0;34m=\u001b[0m\u001b[0mfind_stack_level\u001b[0m\u001b[0;34m(\u001b[0m\u001b[0;34m)\u001b[0m\u001b[0;34m,\u001b[0m\u001b[0;34m\u001b[0m\u001b[0;34m\u001b[0m\u001b[0m\n\u001b[1;32m    330\u001b[0m                 )\n\u001b[0;32m--> 331\u001b[0;31m             \u001b[0;32mreturn\u001b[0m \u001b[0mfunc\u001b[0m\u001b[0;34m(\u001b[0m\u001b[0;34m*\u001b[0m\u001b[0margs\u001b[0m\u001b[0;34m,\u001b[0m \u001b[0;34m**\u001b[0m\u001b[0mkwargs\u001b[0m\u001b[0;34m)\u001b[0m\u001b[0;34m\u001b[0m\u001b[0;34m\u001b[0m\u001b[0m\n\u001b[0m\u001b[1;32m    332\u001b[0m \u001b[0;34m\u001b[0m\u001b[0m\n\u001b[1;32m    333\u001b[0m         \u001b[0;31m# error: \"Callable[[VarArg(Any), KwArg(Any)], Any]\" has no\u001b[0m\u001b[0;34m\u001b[0m\u001b[0;34m\u001b[0m\u001b[0m\n",
            "\u001b[0;32m/usr/local/lib/python3.10/dist-packages/pandas/io/parsers/readers.py\u001b[0m in \u001b[0;36mread_csv\u001b[0;34m(filepath_or_buffer, sep, delimiter, header, names, index_col, usecols, squeeze, prefix, mangle_dupe_cols, dtype, engine, converters, true_values, false_values, skipinitialspace, skiprows, skipfooter, nrows, na_values, keep_default_na, na_filter, verbose, skip_blank_lines, parse_dates, infer_datetime_format, keep_date_col, date_parser, dayfirst, cache_dates, iterator, chunksize, compression, thousands, decimal, lineterminator, quotechar, quoting, doublequote, escapechar, comment, encoding, encoding_errors, dialect, error_bad_lines, warn_bad_lines, on_bad_lines, delim_whitespace, low_memory, memory_map, float_precision, storage_options)\u001b[0m\n\u001b[1;32m    948\u001b[0m     \u001b[0mkwds\u001b[0m\u001b[0;34m.\u001b[0m\u001b[0mupdate\u001b[0m\u001b[0;34m(\u001b[0m\u001b[0mkwds_defaults\u001b[0m\u001b[0;34m)\u001b[0m\u001b[0;34m\u001b[0m\u001b[0;34m\u001b[0m\u001b[0m\n\u001b[1;32m    949\u001b[0m \u001b[0;34m\u001b[0m\u001b[0m\n\u001b[0;32m--> 950\u001b[0;31m     \u001b[0;32mreturn\u001b[0m \u001b[0m_read\u001b[0m\u001b[0;34m(\u001b[0m\u001b[0mfilepath_or_buffer\u001b[0m\u001b[0;34m,\u001b[0m \u001b[0mkwds\u001b[0m\u001b[0;34m)\u001b[0m\u001b[0;34m\u001b[0m\u001b[0;34m\u001b[0m\u001b[0m\n\u001b[0m\u001b[1;32m    951\u001b[0m \u001b[0;34m\u001b[0m\u001b[0m\n\u001b[1;32m    952\u001b[0m \u001b[0;34m\u001b[0m\u001b[0m\n",
            "\u001b[0;32m/usr/local/lib/python3.10/dist-packages/pandas/io/parsers/readers.py\u001b[0m in \u001b[0;36m_read\u001b[0;34m(filepath_or_buffer, kwds)\u001b[0m\n\u001b[1;32m    603\u001b[0m \u001b[0;34m\u001b[0m\u001b[0m\n\u001b[1;32m    604\u001b[0m     \u001b[0;31m# Create the parser.\u001b[0m\u001b[0;34m\u001b[0m\u001b[0;34m\u001b[0m\u001b[0m\n\u001b[0;32m--> 605\u001b[0;31m     \u001b[0mparser\u001b[0m \u001b[0;34m=\u001b[0m \u001b[0mTextFileReader\u001b[0m\u001b[0;34m(\u001b[0m\u001b[0mfilepath_or_buffer\u001b[0m\u001b[0;34m,\u001b[0m \u001b[0;34m**\u001b[0m\u001b[0mkwds\u001b[0m\u001b[0;34m)\u001b[0m\u001b[0;34m\u001b[0m\u001b[0;34m\u001b[0m\u001b[0m\n\u001b[0m\u001b[1;32m    606\u001b[0m \u001b[0;34m\u001b[0m\u001b[0m\n\u001b[1;32m    607\u001b[0m     \u001b[0;32mif\u001b[0m \u001b[0mchunksize\u001b[0m \u001b[0;32mor\u001b[0m \u001b[0miterator\u001b[0m\u001b[0;34m:\u001b[0m\u001b[0;34m\u001b[0m\u001b[0;34m\u001b[0m\u001b[0m\n",
            "\u001b[0;32m/usr/local/lib/python3.10/dist-packages/pandas/io/parsers/readers.py\u001b[0m in \u001b[0;36m__init__\u001b[0;34m(self, f, engine, **kwds)\u001b[0m\n\u001b[1;32m   1440\u001b[0m \u001b[0;34m\u001b[0m\u001b[0m\n\u001b[1;32m   1441\u001b[0m         \u001b[0mself\u001b[0m\u001b[0;34m.\u001b[0m\u001b[0mhandles\u001b[0m\u001b[0;34m:\u001b[0m \u001b[0mIOHandles\u001b[0m \u001b[0;34m|\u001b[0m \u001b[0;32mNone\u001b[0m \u001b[0;34m=\u001b[0m \u001b[0;32mNone\u001b[0m\u001b[0;34m\u001b[0m\u001b[0;34m\u001b[0m\u001b[0m\n\u001b[0;32m-> 1442\u001b[0;31m         \u001b[0mself\u001b[0m\u001b[0;34m.\u001b[0m\u001b[0m_engine\u001b[0m \u001b[0;34m=\u001b[0m \u001b[0mself\u001b[0m\u001b[0;34m.\u001b[0m\u001b[0m_make_engine\u001b[0m\u001b[0;34m(\u001b[0m\u001b[0mf\u001b[0m\u001b[0;34m,\u001b[0m \u001b[0mself\u001b[0m\u001b[0;34m.\u001b[0m\u001b[0mengine\u001b[0m\u001b[0;34m)\u001b[0m\u001b[0;34m\u001b[0m\u001b[0;34m\u001b[0m\u001b[0m\n\u001b[0m\u001b[1;32m   1443\u001b[0m \u001b[0;34m\u001b[0m\u001b[0m\n\u001b[1;32m   1444\u001b[0m     \u001b[0;32mdef\u001b[0m \u001b[0mclose\u001b[0m\u001b[0;34m(\u001b[0m\u001b[0mself\u001b[0m\u001b[0;34m)\u001b[0m \u001b[0;34m->\u001b[0m \u001b[0;32mNone\u001b[0m\u001b[0;34m:\u001b[0m\u001b[0;34m\u001b[0m\u001b[0;34m\u001b[0m\u001b[0m\n",
            "\u001b[0;32m/usr/local/lib/python3.10/dist-packages/pandas/io/parsers/readers.py\u001b[0m in \u001b[0;36m_make_engine\u001b[0;34m(self, f, engine)\u001b[0m\n\u001b[1;32m   1733\u001b[0m                 \u001b[0;32mif\u001b[0m \u001b[0;34m\"b\"\u001b[0m \u001b[0;32mnot\u001b[0m \u001b[0;32min\u001b[0m \u001b[0mmode\u001b[0m\u001b[0;34m:\u001b[0m\u001b[0;34m\u001b[0m\u001b[0;34m\u001b[0m\u001b[0m\n\u001b[1;32m   1734\u001b[0m                     \u001b[0mmode\u001b[0m \u001b[0;34m+=\u001b[0m \u001b[0;34m\"b\"\u001b[0m\u001b[0;34m\u001b[0m\u001b[0;34m\u001b[0m\u001b[0m\n\u001b[0;32m-> 1735\u001b[0;31m             self.handles = get_handle(\n\u001b[0m\u001b[1;32m   1736\u001b[0m                 \u001b[0mf\u001b[0m\u001b[0;34m,\u001b[0m\u001b[0;34m\u001b[0m\u001b[0;34m\u001b[0m\u001b[0m\n\u001b[1;32m   1737\u001b[0m                 \u001b[0mmode\u001b[0m\u001b[0;34m,\u001b[0m\u001b[0;34m\u001b[0m\u001b[0;34m\u001b[0m\u001b[0m\n",
            "\u001b[0;32m/usr/local/lib/python3.10/dist-packages/pandas/io/common.py\u001b[0m in \u001b[0;36mget_handle\u001b[0;34m(path_or_buf, mode, encoding, compression, memory_map, is_text, errors, storage_options)\u001b[0m\n\u001b[1;32m    777\u001b[0m             \u001b[0;31m# \"Union[str, BaseBuffer]\"; expected \"Union[Union[str, PathLike[str]],\u001b[0m\u001b[0;34m\u001b[0m\u001b[0;34m\u001b[0m\u001b[0m\n\u001b[1;32m    778\u001b[0m             \u001b[0;31m# ReadBuffer[bytes], WriteBuffer[bytes]]\"\u001b[0m\u001b[0;34m\u001b[0m\u001b[0;34m\u001b[0m\u001b[0m\n\u001b[0;32m--> 779\u001b[0;31m             handle = _BytesZipFile(\n\u001b[0m\u001b[1;32m    780\u001b[0m                 \u001b[0mhandle\u001b[0m\u001b[0;34m,\u001b[0m \u001b[0mioargs\u001b[0m\u001b[0;34m.\u001b[0m\u001b[0mmode\u001b[0m\u001b[0;34m,\u001b[0m \u001b[0;34m**\u001b[0m\u001b[0mcompression_args\u001b[0m  \u001b[0;31m# type: ignore[arg-type]\u001b[0m\u001b[0;34m\u001b[0m\u001b[0;34m\u001b[0m\u001b[0m\n\u001b[1;32m    781\u001b[0m             )\n",
            "\u001b[0;32m/usr/local/lib/python3.10/dist-packages/pandas/io/common.py\u001b[0m in \u001b[0;36m__init__\u001b[0;34m(self, file, mode, archive_name, **kwargs)\u001b[0m\n\u001b[1;32m   1020\u001b[0m         \u001b[0;31m# Union[str, PathLike[str]], ReadBuffer[bytes], WriteBuffer[bytes]]\";\u001b[0m\u001b[0;34m\u001b[0m\u001b[0;34m\u001b[0m\u001b[0m\n\u001b[1;32m   1021\u001b[0m         \u001b[0;31m# expected \"Union[Union[str, PathLike[str]], IO[bytes]]\"\u001b[0m\u001b[0;34m\u001b[0m\u001b[0;34m\u001b[0m\u001b[0m\n\u001b[0;32m-> 1022\u001b[0;31m         \u001b[0mself\u001b[0m\u001b[0;34m.\u001b[0m\u001b[0mbuffer\u001b[0m \u001b[0;34m=\u001b[0m \u001b[0mzipfile\u001b[0m\u001b[0;34m.\u001b[0m\u001b[0mZipFile\u001b[0m\u001b[0;34m(\u001b[0m\u001b[0mfile\u001b[0m\u001b[0;34m,\u001b[0m \u001b[0mmode\u001b[0m\u001b[0;34m,\u001b[0m \u001b[0;34m**\u001b[0m\u001b[0mkwargs\u001b[0m\u001b[0;34m)\u001b[0m  \u001b[0;31m# type: ignore[arg-type]\u001b[0m\u001b[0;34m\u001b[0m\u001b[0;34m\u001b[0m\u001b[0m\n\u001b[0m\u001b[1;32m   1023\u001b[0m \u001b[0;34m\u001b[0m\u001b[0m\n\u001b[1;32m   1024\u001b[0m     \u001b[0;32mdef\u001b[0m \u001b[0minfer_filename\u001b[0m\u001b[0;34m(\u001b[0m\u001b[0mself\u001b[0m\u001b[0;34m)\u001b[0m \u001b[0;34m->\u001b[0m \u001b[0mstr\u001b[0m \u001b[0;34m|\u001b[0m \u001b[0;32mNone\u001b[0m\u001b[0;34m:\u001b[0m\u001b[0;34m\u001b[0m\u001b[0;34m\u001b[0m\u001b[0m\n",
            "\u001b[0;32m/usr/lib/python3.10/zipfile.py\u001b[0m in \u001b[0;36m__init__\u001b[0;34m(self, file, mode, compression, allowZip64, compresslevel, strict_timestamps)\u001b[0m\n\u001b[1;32m   1247\u001b[0m             \u001b[0;32mwhile\u001b[0m \u001b[0;32mTrue\u001b[0m\u001b[0;34m:\u001b[0m\u001b[0;34m\u001b[0m\u001b[0;34m\u001b[0m\u001b[0m\n\u001b[1;32m   1248\u001b[0m                 \u001b[0;32mtry\u001b[0m\u001b[0;34m:\u001b[0m\u001b[0;34m\u001b[0m\u001b[0;34m\u001b[0m\u001b[0m\n\u001b[0;32m-> 1249\u001b[0;31m                     \u001b[0mself\u001b[0m\u001b[0;34m.\u001b[0m\u001b[0mfp\u001b[0m \u001b[0;34m=\u001b[0m \u001b[0mio\u001b[0m\u001b[0;34m.\u001b[0m\u001b[0mopen\u001b[0m\u001b[0;34m(\u001b[0m\u001b[0mfile\u001b[0m\u001b[0;34m,\u001b[0m \u001b[0mfilemode\u001b[0m\u001b[0;34m)\u001b[0m\u001b[0;34m\u001b[0m\u001b[0;34m\u001b[0m\u001b[0m\n\u001b[0m\u001b[1;32m   1250\u001b[0m                 \u001b[0;32mexcept\u001b[0m \u001b[0mOSError\u001b[0m\u001b[0;34m:\u001b[0m\u001b[0;34m\u001b[0m\u001b[0;34m\u001b[0m\u001b[0m\n\u001b[1;32m   1251\u001b[0m                     \u001b[0;32mif\u001b[0m \u001b[0mfilemode\u001b[0m \u001b[0;32min\u001b[0m \u001b[0mmodeDict\u001b[0m\u001b[0;34m:\u001b[0m\u001b[0;34m\u001b[0m\u001b[0;34m\u001b[0m\u001b[0m\n",
            "\u001b[0;31mFileNotFoundError\u001b[0m: [Errno 2] No such file or directory: '/kaggle/input/walmart-recruiting-store-sales-forecasting/train.csv.zip'"
          ]
        }
      ]
    },
    {
      "cell_type": "markdown",
      "source": [
        "train데이터 셋에서 정답칼럼을 알 수 있고, 알아야 한다. 이 데이터는 대회 제목으로 알 수 있었지만, 이 데이터에서 정답 칼럼을 구분하고 전처리를 해야한다.\n"
      ],
      "metadata": {
        "id": "HDzXQTERYGev"
      }
    },
    {
      "cell_type": "code",
      "source": [
        "test = pd.read_csv('/kaggle/input/walmart-recruiting-store-sales-forecasting/test.csv.zip')\n",
        "test\n"
      ],
      "metadata": {
        "execution": {
          "iopub.status.busy": "2023-07-20T05:49:55.549838Z",
          "iopub.execute_input": "2023-07-20T05:49:55.550278Z",
          "iopub.status.idle": "2023-07-20T05:49:55.631255Z",
          "shell.execute_reply.started": "2023-07-20T05:49:55.550241Z",
          "shell.execute_reply": "2023-07-20T05:49:55.629948Z"
        },
        "trusted": true,
        "id": "C-ZmEMOcYGew",
        "outputId": "b2718fa5-ad47-4384-c5a0-1b2c6cc0ac9c"
      },
      "execution_count": null,
      "outputs": [
        {
          "execution_count": 6,
          "output_type": "execute_result",
          "data": {
            "text/plain": "        Store  Dept        Date  IsHoliday\n0           1     1  2012-11-02      False\n1           1     1  2012-11-09      False\n2           1     1  2012-11-16      False\n3           1     1  2012-11-23       True\n4           1     1  2012-11-30      False\n...       ...   ...         ...        ...\n115059     45    98  2013-06-28      False\n115060     45    98  2013-07-05      False\n115061     45    98  2013-07-12      False\n115062     45    98  2013-07-19      False\n115063     45    98  2013-07-26      False\n\n[115064 rows x 4 columns]",
            "text/html": "<div>\n<style scoped>\n    .dataframe tbody tr th:only-of-type {\n        vertical-align: middle;\n    }\n\n    .dataframe tbody tr th {\n        vertical-align: top;\n    }\n\n    .dataframe thead th {\n        text-align: right;\n    }\n</style>\n<table border=\"1\" class=\"dataframe\">\n  <thead>\n    <tr style=\"text-align: right;\">\n      <th></th>\n      <th>Store</th>\n      <th>Dept</th>\n      <th>Date</th>\n      <th>IsHoliday</th>\n    </tr>\n  </thead>\n  <tbody>\n    <tr>\n      <th>0</th>\n      <td>1</td>\n      <td>1</td>\n      <td>2012-11-02</td>\n      <td>False</td>\n    </tr>\n    <tr>\n      <th>1</th>\n      <td>1</td>\n      <td>1</td>\n      <td>2012-11-09</td>\n      <td>False</td>\n    </tr>\n    <tr>\n      <th>2</th>\n      <td>1</td>\n      <td>1</td>\n      <td>2012-11-16</td>\n      <td>False</td>\n    </tr>\n    <tr>\n      <th>3</th>\n      <td>1</td>\n      <td>1</td>\n      <td>2012-11-23</td>\n      <td>True</td>\n    </tr>\n    <tr>\n      <th>4</th>\n      <td>1</td>\n      <td>1</td>\n      <td>2012-11-30</td>\n      <td>False</td>\n    </tr>\n    <tr>\n      <th>...</th>\n      <td>...</td>\n      <td>...</td>\n      <td>...</td>\n      <td>...</td>\n    </tr>\n    <tr>\n      <th>115059</th>\n      <td>45</td>\n      <td>98</td>\n      <td>2013-06-28</td>\n      <td>False</td>\n    </tr>\n    <tr>\n      <th>115060</th>\n      <td>45</td>\n      <td>98</td>\n      <td>2013-07-05</td>\n      <td>False</td>\n    </tr>\n    <tr>\n      <th>115061</th>\n      <td>45</td>\n      <td>98</td>\n      <td>2013-07-12</td>\n      <td>False</td>\n    </tr>\n    <tr>\n      <th>115062</th>\n      <td>45</td>\n      <td>98</td>\n      <td>2013-07-19</td>\n      <td>False</td>\n    </tr>\n    <tr>\n      <th>115063</th>\n      <td>45</td>\n      <td>98</td>\n      <td>2013-07-26</td>\n      <td>False</td>\n    </tr>\n  </tbody>\n</table>\n<p>115064 rows × 4 columns</p>\n</div>"
          },
          "metadata": {}
        }
      ]
    },
    {
      "cell_type": "markdown",
      "source": [
        "두가지 파일을 모두 불러와서 확인 한 뒤 데이터 전처리를 시작한다. 트레인 데이터셋에서 정답칼럼을 알 수 없는 경우에는 test셋과 비교하여 정답칼럼을 추측한다.\n",
        "쉬운 방법은 train - test 칼럼의 차이로 알 수 있다. 여기선 Weekly_Sales 이 칼럼이 빠져있기 때문에 쉽게 알 수 있었다\n"
      ],
      "metadata": {
        "id": "lemV2RlFYGew"
      }
    },
    {
      "cell_type": "code",
      "source": [
        "train_2 = train.drop(columns = ['Weekly_Sales','Date'])\n",
        "train_2\n"
      ],
      "metadata": {
        "execution": {
          "iopub.status.busy": "2023-07-20T06:36:03.692582Z",
          "iopub.execute_input": "2023-07-20T06:36:03.693138Z",
          "iopub.status.idle": "2023-07-20T06:36:03.716399Z",
          "shell.execute_reply.started": "2023-07-20T06:36:03.693096Z",
          "shell.execute_reply": "2023-07-20T06:36:03.714795Z"
        },
        "trusted": true,
        "id": "u8DK0k8KYGew",
        "outputId": "c40065c4-ae59-45bd-9176-278e7e256040"
      },
      "execution_count": null,
      "outputs": [
        {
          "execution_count": 11,
          "output_type": "execute_result",
          "data": {
            "text/plain": "        Store  Dept  IsHoliday\n0           1     1      False\n1           1     1       True\n2           1     1      False\n3           1     1      False\n4           1     1      False\n...       ...   ...        ...\n421565     45    98      False\n421566     45    98      False\n421567     45    98      False\n421568     45    98      False\n421569     45    98      False\n\n[421570 rows x 3 columns]",
            "text/html": "<div>\n<style scoped>\n    .dataframe tbody tr th:only-of-type {\n        vertical-align: middle;\n    }\n\n    .dataframe tbody tr th {\n        vertical-align: top;\n    }\n\n    .dataframe thead th {\n        text-align: right;\n    }\n</style>\n<table border=\"1\" class=\"dataframe\">\n  <thead>\n    <tr style=\"text-align: right;\">\n      <th></th>\n      <th>Store</th>\n      <th>Dept</th>\n      <th>IsHoliday</th>\n    </tr>\n  </thead>\n  <tbody>\n    <tr>\n      <th>0</th>\n      <td>1</td>\n      <td>1</td>\n      <td>False</td>\n    </tr>\n    <tr>\n      <th>1</th>\n      <td>1</td>\n      <td>1</td>\n      <td>True</td>\n    </tr>\n    <tr>\n      <th>2</th>\n      <td>1</td>\n      <td>1</td>\n      <td>False</td>\n    </tr>\n    <tr>\n      <th>3</th>\n      <td>1</td>\n      <td>1</td>\n      <td>False</td>\n    </tr>\n    <tr>\n      <th>4</th>\n      <td>1</td>\n      <td>1</td>\n      <td>False</td>\n    </tr>\n    <tr>\n      <th>...</th>\n      <td>...</td>\n      <td>...</td>\n      <td>...</td>\n    </tr>\n    <tr>\n      <th>421565</th>\n      <td>45</td>\n      <td>98</td>\n      <td>False</td>\n    </tr>\n    <tr>\n      <th>421566</th>\n      <td>45</td>\n      <td>98</td>\n      <td>False</td>\n    </tr>\n    <tr>\n      <th>421567</th>\n      <td>45</td>\n      <td>98</td>\n      <td>False</td>\n    </tr>\n    <tr>\n      <th>421568</th>\n      <td>45</td>\n      <td>98</td>\n      <td>False</td>\n    </tr>\n    <tr>\n      <th>421569</th>\n      <td>45</td>\n      <td>98</td>\n      <td>False</td>\n    </tr>\n  </tbody>\n</table>\n<p>421570 rows × 3 columns</p>\n</div>"
          },
          "metadata": {}
        }
      ]
    },
    {
      "cell_type": "markdown",
      "source": [],
      "metadata": {
        "id": "lyI6NZrVYGew"
      }
    },
    {
      "cell_type": "code",
      "source": [
        "test_2 =test.drop(columns= ['Date'])\n",
        "test_2"
      ],
      "metadata": {
        "execution": {
          "iopub.status.busy": "2023-07-20T05:57:22.151843Z",
          "iopub.execute_input": "2023-07-20T05:57:22.152254Z",
          "iopub.status.idle": "2023-07-20T05:57:22.169433Z",
          "shell.execute_reply.started": "2023-07-20T05:57:22.152221Z",
          "shell.execute_reply": "2023-07-20T05:57:22.168036Z"
        },
        "trusted": true,
        "id": "t6CQ4IBYYGew",
        "outputId": "0dfc655f-78d3-409f-c00b-f09878f9bc20"
      },
      "execution_count": null,
      "outputs": [
        {
          "execution_count": 8,
          "output_type": "execute_result",
          "data": {
            "text/plain": "        Store  Dept  IsHoliday\n0           1     1      False\n1           1     1      False\n2           1     1      False\n3           1     1       True\n4           1     1      False\n...       ...   ...        ...\n115059     45    98      False\n115060     45    98      False\n115061     45    98      False\n115062     45    98      False\n115063     45    98      False\n\n[115064 rows x 3 columns]",
            "text/html": "<div>\n<style scoped>\n    .dataframe tbody tr th:only-of-type {\n        vertical-align: middle;\n    }\n\n    .dataframe tbody tr th {\n        vertical-align: top;\n    }\n\n    .dataframe thead th {\n        text-align: right;\n    }\n</style>\n<table border=\"1\" class=\"dataframe\">\n  <thead>\n    <tr style=\"text-align: right;\">\n      <th></th>\n      <th>Store</th>\n      <th>Dept</th>\n      <th>IsHoliday</th>\n    </tr>\n  </thead>\n  <tbody>\n    <tr>\n      <th>0</th>\n      <td>1</td>\n      <td>1</td>\n      <td>False</td>\n    </tr>\n    <tr>\n      <th>1</th>\n      <td>1</td>\n      <td>1</td>\n      <td>False</td>\n    </tr>\n    <tr>\n      <th>2</th>\n      <td>1</td>\n      <td>1</td>\n      <td>False</td>\n    </tr>\n    <tr>\n      <th>3</th>\n      <td>1</td>\n      <td>1</td>\n      <td>True</td>\n    </tr>\n    <tr>\n      <th>4</th>\n      <td>1</td>\n      <td>1</td>\n      <td>False</td>\n    </tr>\n    <tr>\n      <th>...</th>\n      <td>...</td>\n      <td>...</td>\n      <td>...</td>\n    </tr>\n    <tr>\n      <th>115059</th>\n      <td>45</td>\n      <td>98</td>\n      <td>False</td>\n    </tr>\n    <tr>\n      <th>115060</th>\n      <td>45</td>\n      <td>98</td>\n      <td>False</td>\n    </tr>\n    <tr>\n      <th>115061</th>\n      <td>45</td>\n      <td>98</td>\n      <td>False</td>\n    </tr>\n    <tr>\n      <th>115062</th>\n      <td>45</td>\n      <td>98</td>\n      <td>False</td>\n    </tr>\n    <tr>\n      <th>115063</th>\n      <td>45</td>\n      <td>98</td>\n      <td>False</td>\n    </tr>\n  </tbody>\n</table>\n<p>115064 rows × 3 columns</p>\n</div>"
          },
          "metadata": {}
        }
      ]
    },
    {
      "cell_type": "markdown",
      "source": [
        "train_2 는 데이터 전처리를 위해 새롭게 만든 객체이다. 이 전처리는 1. 컴퓨터가 읽을 수 있는 숫자데이터만 남기는 처리, 2 train 과 test 셋의 칼럼을 맞추기 위한 과정이다\n",
        "아래에서와 같이 test_2, train_2의 행렬이 같아진 것을 확인할 수 있다.\n",
        "\n"
      ],
      "metadata": {
        "id": "tiwzf8ajYGex"
      }
    },
    {
      "cell_type": "code",
      "source": [
        "test_2,train_2"
      ],
      "metadata": {
        "execution": {
          "iopub.status.busy": "2023-07-20T06:39:00.670171Z",
          "iopub.execute_input": "2023-07-20T06:39:00.670651Z",
          "iopub.status.idle": "2023-07-20T06:39:00.686888Z",
          "shell.execute_reply.started": "2023-07-20T06:39:00.670613Z",
          "shell.execute_reply": "2023-07-20T06:39:00.685737Z"
        },
        "trusted": true,
        "id": "cLPzdAc1YGex",
        "outputId": "a24c1a33-b4d5-4819-ca0b-004cd347f343"
      },
      "execution_count": null,
      "outputs": [
        {
          "execution_count": 17,
          "output_type": "execute_result",
          "data": {
            "text/plain": "(        Store  Dept  IsHoliday\n 0           1     1      False\n 1           1     1      False\n 2           1     1      False\n 3           1     1       True\n 4           1     1      False\n ...       ...   ...        ...\n 115059     45    98      False\n 115060     45    98      False\n 115061     45    98      False\n 115062     45    98      False\n 115063     45    98      False\n \n [115064 rows x 3 columns],\n         Store  Dept  IsHoliday\n 0           1     1      False\n 1           1     1       True\n 2           1     1      False\n 3           1     1      False\n 4           1     1      False\n ...       ...   ...        ...\n 421565     45    98      False\n 421566     45    98      False\n 421567     45    98      False\n 421568     45    98      False\n 421569     45    98      False\n \n [421570 rows x 3 columns])"
          },
          "metadata": {}
        }
      ]
    },
    {
      "cell_type": "markdown",
      "source": [
        "전처리 끝나면 모델링을 한다.\n",
        "1.모델불러오기\n",
        "2.학습시키기\n",
        "\n",
        "제일 많이 사용하는 모델은 랜덤포레스트 모델이다. 그 이유는 어떤 데이터든지 사용이 쉽고, 결과 점수도 준수하게 나오기 때문이다.\n",
        "랜덤포레스트 모델에는 classfier, regressor 두 가지가 있는데 이 문제에서는 regressor를 사용한다.\n",
        "\n",
        "classfier는 분류에서 사용하며, 암치료자수, 구독자수, 고객 이탈수 예측을 위한다\n",
        "regressor는 회귀문제에서 사용하며, 강수량 판매랑에서 사용한다.\n"
      ],
      "metadata": {
        "id": "I8KKNYNFYGex"
      }
    },
    {
      "cell_type": "code",
      "source": [
        "from sklearn.ensemble import RandomForestRegressor\n",
        "rf = RandomForestRegressor() #모델 선언 ()는 옵션들어감\n",
        "\n",
        "rf.fit(train_2,train['Weekly_Sales'])\n",
        "# fit()은 모델학습을 진행한다는 명령이다. 인수로는 input값과 target값이 들어간다. 지금 이 파일에선 input train_2파일이 들어갔고, 타겟값으로는 그 파일의 분석 칼럼이 들어갔다\n",
        "\n",
        "\n",
        "result = rf.predict(test_2) #predict()는 fit 다음에 사용하는 함수이다.fit은 모델훈련, predict()는 예측이다.\n",
        "result"
      ],
      "metadata": {
        "execution": {
          "iopub.status.busy": "2023-07-20T06:06:53.581974Z",
          "iopub.execute_input": "2023-07-20T06:06:53.582371Z",
          "iopub.status.idle": "2023-07-20T06:07:17.911224Z",
          "shell.execute_reply.started": "2023-07-20T06:06:53.582340Z",
          "shell.execute_reply": "2023-07-20T06:07:17.910104Z"
        },
        "trusted": true,
        "id": "8RSjru8IYGex",
        "outputId": "09309153-56a6-477c-f0fc-35a9b1e7dccb"
      },
      "execution_count": null,
      "outputs": [
        {
          "execution_count": 9,
          "output_type": "execute_result",
          "data": {
            "text/plain": "array([22339.93671418, 22339.93671418, 22339.93671418, ...,\n         561.02186757,   561.02186757,   561.02186757])"
          },
          "metadata": {}
        }
      ]
    },
    {
      "cell_type": "code",
      "source": [
        "from sklearn.ensemble import RandomForestRegressor\n",
        "rf = RandomForestRegressor() #모델 선언 ()는 옵션들어감\n",
        "\n",
        "rf.fit(train_2,train['Weekly_Sales']) #여기서 fit이 무슨 함수인지 일단 알아야함.\n",
        "\n",
        "result = rf.predict(test_2) #predict함수가 무엇인지 알아야\n",
        "result"
      ],
      "metadata": {
        "execution": {
          "iopub.status.busy": "2023-07-20T06:06:53.581974Z",
          "iopub.execute_input": "2023-07-20T06:06:53.582371Z",
          "iopub.status.idle": "2023-07-20T06:07:17.911224Z",
          "shell.execute_reply.started": "2023-07-20T06:06:53.582340Z",
          "shell.execute_reply": "2023-07-20T06:07:17.910104Z"
        },
        "trusted": true,
        "id": "s1QiLS8EYGey",
        "outputId": "4eea9960-ef98-46d6-c20f-714243ea5ee9"
      },
      "execution_count": null,
      "outputs": [
        {
          "execution_count": 9,
          "output_type": "execute_result",
          "data": {
            "text/plain": "array([22339.93671418, 22339.93671418, 22339.93671418, ...,\n         561.02186757,   561.02186757,   561.02186757])"
          },
          "metadata": {}
        }
      ]
    },
    {
      "cell_type": "code",
      "source": [],
      "metadata": {
        "id": "N6TlChhYYGey"
      },
      "execution_count": null,
      "outputs": []
    }
  ]
}