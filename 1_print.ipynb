{
 "cells": [
  {
   "cell_type": "markdown",
   "metadata": {},
   "source": [
    "숫자를 맞추는 게임만들기 \n",
    "\n",
    "1부터 100까지 랜덤한 숫자를 출력 \n",
    "\n",
    "사용자로 부터 숫자를 입력받아\n",
    "랜덤한 숫자 값이 사용자와 입력한 값과 같은지 비교 후 \n",
    "맞히면 몇 번만에 맞혔는지 출력 \n"
   ]
  },
  {
   "cell_type": "code",
   "execution_count": 17,
   "metadata": {},
   "outputs": [
    {
     "name": "stdout",
     "output_type": "stream",
     "text": [
      "숫자만 입력해주세요!\n",
      "숫자만 입력해주세요!\n",
      "업!\n",
      "다운!\n",
      "다운!\n",
      "숫자만 입력해주세요!\n",
      "다운!\n",
      "업!\n",
      "숫자만 입력해주세요!\n",
      "업!\n",
      "다운!\n",
      "업!\n",
      "업!\n",
      "업!\n",
      "업!\n",
      "업!\n",
      "축하합니다! 12회 만에 성공하셨네요!\n"
     ]
    }
   ],
   "source": [
    "import random \n",
    "\n",
    "random_number = random.randint(1,100)\n",
    "\n",
    "numCnt = 0\n",
    "\n",
    "while True:\n",
    "    try:\n",
    "        intinput = int(input('숫자를 입력하세요!:'))\n",
    "    \n",
    "    except ValueError:\n",
    "        print('숫자만 입력해주세요!')\n",
    "        continue\n",
    "    \n",
    "    if intinput < random_number:\n",
    "        print('업!')\n",
    "    elif intinput > random_number:\n",
    "        print('다운!')\n",
    "    elif intinput == random_number:\n",
    "        print(f'축하합니다! {numCnt}회 만에 성공하셨네요!')\n",
    "        break\n",
    "\n",
    "    numCnt += 1"
   ]
  },
  {
   "cell_type": "code",
   "execution_count": 1,
   "metadata": {},
   "outputs": [
    {
     "name": "stdout",
     "output_type": "stream",
     "text": [
      "           짜장면     짬뽕         마라탕      합계\n",
      "남자  195.555556  160.0  124.444444   480.0\n",
      "여자  244.444444  200.0  155.555556   600.0\n",
      "합계  440.000000  360.0  280.000000  1080.0\n"
     ]
    }
   ],
   "source": [
    "import pandas as pd\n",
    "import numpy as np\n",
    "\n",
    "# 행렬 생성\n",
    "data = {\n",
    "    '짜장면': [50, 60, 110],\n",
    "    '짬뽕': [40, 50, 90],\n",
    "    '마라탕': [30, 40, 70],\n",
    "    '합계': [120, 150, 270]\n",
    "}\n",
    "df = pd.DataFrame(data, index=['남자', '여자', '합계'])\n",
    "\n",
    "# 행의 총합, 열의 총합 계산\n",
    "row_sums = df.sum(axis=1)  # 각 행의 합\n",
    "col_sums = df.sum(axis=0)  # 각 열의 합\n",
    "\n",
    "# 행의 총합과 열의 총합을 곱하고 이를 전체 합계로 나누기\n",
    "expected = np.outer(row_sums, col_sums) / df.values[-1,-1]  # numpy의 outer 함수를 사용하여 외적 계산\n",
    "\n",
    "# DataFrame으로 변환\n",
    "expected_df = pd.DataFrame(expected, index=df.index, columns=df.columns)\n",
    "\n",
    "print(expected_df)\n"
   ]
  }
 ],
 "metadata": {
  "kernelspec": {
   "display_name": "base",
   "language": "python",
   "name": "python3"
  },
  "language_info": {
   "codemirror_mode": {
    "name": "ipython",
    "version": 3
   },
   "file_extension": ".py",
   "mimetype": "text/x-python",
   "name": "python",
   "nbconvert_exporter": "python",
   "pygments_lexer": "ipython3",
   "version": "3.11.3"
  },
  "orig_nbformat": 4
 },
 "nbformat": 4,
 "nbformat_minor": 2
}
